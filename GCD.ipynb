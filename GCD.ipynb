{
 "cells": [
  {
   "cell_type": "code",
   "execution_count": 109,
   "metadata": {},
   "outputs": [
    {
     "name": "stdout",
     "output_type": "stream",
     "text": [
      "1\n",
      "Wall time: 2 ms\n"
     ]
    }
   ],
   "source": [
    "%%time\n",
    "#Compute The Greatest common Factor\n",
    "def gcd1(m,n):\n",
    "    #Find fcators of m\n",
    "    fm = []\n",
    "    for i in range(1,m+1):\n",
    "        if (m%i)==0:\n",
    "            fm.append(i)\n",
    "    #find factors of n\n",
    "    fn = []\n",
    "    for j in range(1,n+1):\n",
    "        if (n%j)==0:\n",
    "            fn.append(j)  \n",
    "    #find common fcators of m & n\n",
    "    cf = []\n",
    "    for f in fm:\n",
    "        if f in fn:\n",
    "            cf.append(f)\n",
    "    #Return the greatest common factor\n",
    "    return max(cf)\n",
    "\n",
    "print(gcd1(3575,978))           "
   ]
  },
  {
   "cell_type": "code",
   "execution_count": 108,
   "metadata": {},
   "outputs": [
    {
     "name": "stdout",
     "output_type": "stream",
     "text": [
      "1\n",
      "Wall time: 1.99 ms\n"
     ]
    }
   ],
   "source": [
    "%%time\n",
    "def gcd2(m,n):\n",
    "    fm = [i for i in range(1,m+1) if m%i ==0] #Factors of m\n",
    "    fn = [j for j in range(1,n+1) if n%j ==0] #Factors of n\n",
    "    cf = [f for f in fn if f in fm] #common factors of m & n\n",
    "    return max(cf) #return the greatest common factor\n",
    "\n",
    "\n",
    "print(gcd2(3575,978))  "
   ]
  },
  {
   "cell_type": "code",
   "execution_count": 110,
   "metadata": {},
   "outputs": [
    {
     "name": "stdout",
     "output_type": "stream",
     "text": [
      "1\n",
      "Wall time: 996 µs\n"
     ]
    }
   ],
   "source": [
    "%%time\n",
    "def gcd3(m,n):\n",
    "    return max([i for i in range(1,min(m,n)+1) if ((m%i)==0 and (n%i)==0)])\n",
    "\n",
    "print(gcd3(3575,978)) "
   ]
  },
  {
   "cell_type": "code",
   "execution_count": null,
   "metadata": {},
   "outputs": [],
   "source": []
  }
 ],
 "metadata": {
  "kernelspec": {
   "display_name": "Python 3",
   "language": "python",
   "name": "python3"
  },
  "language_info": {
   "codemirror_mode": {
    "name": "ipython",
    "version": 3
   },
   "file_extension": ".py",
   "mimetype": "text/x-python",
   "name": "python",
   "nbconvert_exporter": "python",
   "pygments_lexer": "ipython3",
   "version": "3.7.6"
  }
 },
 "nbformat": 4,
 "nbformat_minor": 4
}
